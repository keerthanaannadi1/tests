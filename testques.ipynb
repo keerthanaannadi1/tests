{
  "nbformat": 4,
  "nbformat_minor": 0,
  "metadata": {
    "colab": {
      "provenance": []
    },
    "kernelspec": {
      "name": "python3",
      "display_name": "Python 3"
    },
    "language_info": {
      "name": "python"
    }
  },
  "cells": [
    {
      "cell_type": "code",
      "execution_count": 2,
      "metadata": {
        "id": "tFCWRvFWjD5g",
        "colab": {
          "base_uri": "https://localhost:8080/"
        },
        "outputId": "1a425dd8-aae6-4801-88b6-25d8b88d63d6"
      },
      "outputs": [
        {
          "output_type": "stream",
          "name": "stdout",
          "text": [
            "Enter the harry value5\n",
            "Enter the ron value54\n",
            "Enter the value of heroine2\n",
            "Ron is the greatest\n"
          ]
        }
      ],
      "source": [
        "harry=int(input(\"Enter the harry value\"))\n",
        "ron=int(input(\"Enter the ron value\"))\n",
        "heroine=int(input(\"Enter the value of heroine\"))\n",
        "if harry>ron and harry>heroine:\n",
        "    print(\"Harry is the greatest\")\n",
        "elif ron>harry and ron>heroine:\n",
        "    print(\"Ron is the greatest\")\n",
        "else:\n",
        "    print(\"Heroine is the greatest\")\n"
      ]
    },
    {
      "cell_type": "code",
      "source": [],
      "metadata": {
        "id": "cJ-AfQpcFgkN"
      },
      "execution_count": null,
      "outputs": []
    }
  ]
}